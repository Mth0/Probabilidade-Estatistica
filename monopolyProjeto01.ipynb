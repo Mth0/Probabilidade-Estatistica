{
  "nbformat": 4,
  "nbformat_minor": 0,
  "metadata": {
    "colab": {
      "provenance": []
    },
    "kernelspec": {
      "name": "python3",
      "display_name": "Python 3"
    },
    "language_info": {
      "name": "python"
    }
  },
  "cells": [
    {
      "cell_type": "code",
      "execution_count": null,
      "metadata": {
        "id": "bCF8t8g7f2mB"
      },
      "outputs": [],
      "source": [
        "import numpy as np\n",
        "import matplotlib.pyplot as plt\n",
        "from matplotlib.animation import FuncAnimation"
      ]
    },
    {
      "cell_type": "markdown",
      "source": [
        "#Matheus do Ó Santos Tiburcio\n",
        "\n",
        "#Projeto 1 de Estatística e Probabilidade (MAD243)"
      ],
      "metadata": {
        "id": "3NQzeFyTkOmt"
      }
    },
    {
      "cell_type": "markdown",
      "source": [
        "#a)\n",
        "\n",
        "  O problema consiste em um jogador que, normalmente, tende a trocar de casas, mas pelas descrições sabemos que não importa onde ele já esteve, mas somente onde ele atualmente está. Por ser um jogo baseado em rolagem de dados definindo a casa para que se vai, somente a casa que atualmente se está interessa, pois essa será somada ao valor dos dados, levando o jogador a uma nova casa. E essa é justamente a ideia das Cadeias de Markov, pois nelas não nos interessa todo o passado, mas somente o estado atual:\n",
        "\n",
        "P(X = x | Y = y) = P(X = x | Y = y; Z = z; .... W = w)\n",
        "\n",
        "  Nessa matriz que chamaremos de matriz de transição cada linha representaria a casa em que o jogador atualmente está e as colunas conterão as probabilidades de o jogador cair naquela casa especificada pelo valor da coluna. Desse modo se olharmos a linha 1, coluna 5, vamos estar vendo a probabilidade de se cair na casa 5 sabendo que estamos na casa 1. Por esse exemplo fica um pouco mais plausível o uso de uma cadeia de Markov.\n",
        "\n",
        "\n",
        "\n",
        "---\n",
        "\n",
        "\n",
        "\n",
        "Agora as probabilidades de em dada casa, cair noutra:\n",
        "\n",
        "  Antes vamos organizar o que temos, sabemos que 2 dados são rolados e que caso sejam iguais o jogador não se move, sendo assim:\n",
        "\n",
        "  Temos que dentre os 36 casos possíveis temos que 6 terão dados iguais, logo:\n",
        "\n",
        "P(dados iguais) = 6/36\n",
        "\n",
        "Para os outros valores da soma de dados, observamos que:\n",
        "\n",
        "S = soma dos dados, P(S):\n",
        "\n",
        "P(1) = 0\n",
        "\n",
        "P(2) = 1/36\n",
        "\n",
        "P(3) = 2/36\n",
        "\n",
        "P(4) = 3/36\n",
        "\n",
        "P(5) = 4/36\n",
        "\n",
        "P(6) = 5/36\n",
        "\n",
        "P(7) = 6/36\n",
        "\n",
        "P(8) = 5/36\n",
        "\n",
        "P(9) = 4/36\n",
        "\n",
        "P(10) = 3/36\n",
        "\n",
        "P(11) = 2/36\n",
        "\n",
        "P(12) = 1/36\n",
        "\n",
        "Porém casos onde os dados são iguais são desconsiderados, logo:\n",
        "\n",
        "P(1) = 0\n",
        "\n",
        "P(2) = 0\n",
        "\n",
        "P(3) = 2/36\n",
        "\n",
        "P(4) = 2/36\n",
        "\n",
        "P(5) = 4/36\n",
        "\n",
        "P(6) = 4/36\n",
        "\n",
        "P(7) = 6/36\n",
        "\n",
        "P(8) = 4/36\n",
        "\n",
        "P(9) = 4/36\n",
        "\n",
        "P(10) = 2/36\n",
        "\n",
        "P(11) = 2/36\n",
        "\n",
        "P(dados iguais) = 6/36\n",
        "\n",
        "\n",
        "\n",
        "---\n",
        "\n",
        "\n",
        "\n",
        "  Portanto a matriz de transição irá conter essa informação. No caso de a chance de S = 3 ser 2/36, significaria, por exemplo, que se estou na casa 1, tenho 2/36 de chance de cair na casa 4 (1 + 3).\n",
        "\n",
        "  Devido a regra de ir à cadeia caso se tire números iguais 3 vezes seguidas, eu utilizei estados auxiliares. Os estados então seriam estados normais, estados onde já se rolou números iguais uma vez e duas vezes. Então teríamos por exemplo: 1 1' e 1'' para respectivamente \"estou na casa 1\", \"estou na casa 1 e rolei dados iguais 1 vez\" e \"estou na casa 1 e rolei dados iguais 2 vezes seguidas\". Caso se role uma terceira, se vai a um outro estado especial que representa o fato de você estar preso.\n",
        "\n",
        "  Quando se está preso há 2 modos de sair: ficando lá por três turnos ou tirando números iguais nos dados. Para modelar isso usei mais estados auxiliares(tem muitos!) sendo preso, preso' e preso''. A lógica aqui é parecida, mas eles representariam respectivamente: \"estou preso\", \"estou preso e NÃO tirei dados iguais\" e \"estou preso e NÃO tirei dados iguais duas vezes seguidas\". Caso se esteja em preso'', automaticamente você é solto da prisão e o comportamento da linha é igual ao de estar na casa 20. Mas quais as probabilidades disso? Bom, se queremos dados iguais, a chance de transitar de preso para preso' e de preso' para preso'' é não tirar dados iguais. Essa chance é de 1 - chance de tirar, logo: 1 - 6/36 = 30/36. E a chance de sair da prisão E rolar um dado normalmente é (6/36) * probalidade de se cair S valor na soma dos dados.\n",
        "\n",
        "  O código abaixo monta essa matriz de transição, junto de um código que permite acessar uma linha ou coluna em específico dessa matriz."
      ],
      "metadata": {
        "id": "xYliAhVbgDzi"
      }
    },
    {
      "cell_type": "code",
      "source": [
        "def DefineEstocastica():\n",
        "  probabilidadesDado = [0, 0, 0, 2/36, 2/36, 4/36,\n",
        "                        4/36, 6/36, 4/36, 4/36, 2/36, 2/36, 0]\n",
        "\n",
        "  M = np.zeros((123, 123))\n",
        "  j = 0\n",
        "  totalCol = 0\n",
        "  probLinha = 0\n",
        "\n",
        "  #percorre as linhas\n",
        "  for i in range(123):\n",
        "    #percorre as colunas\n",
        "    while(totalCol <= 122):\n",
        "      #o percurso começa exatamente no valor de entrada i, i\n",
        "      if(totalCol == 0):\n",
        "        if(i < 40):\n",
        "          j = i\n",
        "        elif(i >= 40 and i <= 79):\n",
        "          j = i - 40\n",
        "        elif(i >= 80 and i <= 119):\n",
        "          j = i - 80\n",
        "        else:\n",
        "          j = 19\n",
        "        #percorre todo os possiveis caminhos com os dados jogados\n",
        "        #com valores diferentes\n",
        "        for p in probabilidadesDado:\n",
        "          if(i < 120 or i == 122):\n",
        "            M[i, (j + totalCol) % 40] = p\n",
        "          else:\n",
        "            M[i, (j + totalCol) % 40] = (6/36)*p\n",
        "          totalCol += 1\n",
        "        j = (j + totalCol) % 123\n",
        "\n",
        "      #calcula a probabilidade de linha (dados repetidos)\n",
        "      elif(i >= 0 and i <= 79 and probLinha == 0):\n",
        "        M[i, i + 40] = 6/36\n",
        "        probLinha = 1\n",
        "        totalCol += 1\n",
        "      elif(i >= 80 and i <= 119 and probLinha == 0):\n",
        "        M[i, 120] = 6/36\n",
        "        probLinha = 1\n",
        "        totalCol += 1\n",
        "      elif(i == 120 and probLinha == 0):\n",
        "        M[i, 120] = (6/36)**2\n",
        "        M[i, 121] = 30/36\n",
        "        probLinha = 1\n",
        "        totalCol += 1\n",
        "      elif(i == 121 and probLinha == 0):\n",
        "        M[i, 120] = (6/36)**2\n",
        "        M[i, 122] = 30/36\n",
        "        probLinha = 1\n",
        "        totalCol += 1\n",
        "      elif(i == 122 and probLinha == 0):\n",
        "        M[i, 59] = 6/36\n",
        "        probLinha = 1\n",
        "        totalCol += 1\n",
        "      #só uma checagem para não sobrepor o valor\n",
        "      #de dados repetidos feito acima\n",
        "      elif(M[i, j] != 6/36):\n",
        "        M[i, j] = 0\n",
        "        totalCol += 1\n",
        "\n",
        "      j = (j + 1) % 123\n",
        "      probLinha = 0\n",
        "    totalCol = 0\n",
        "  return M"
      ],
      "metadata": {
        "id": "4TTJPAFggDHK"
      },
      "execution_count": null,
      "outputs": []
    },
    {
      "cell_type": "code",
      "source": [
        "M = DefineEstocastica()"
      ],
      "metadata": {
        "id": "wG9P_CU_eQjW"
      },
      "execution_count": null,
      "outputs": []
    },
    {
      "cell_type": "code",
      "source": [
        "def AcessaLinhaColuna(c, i, M):\n",
        "  if(c == 0):\n",
        "    return M[i, :]\n",
        "  else:\n",
        "    return M[:, i]"
      ],
      "metadata": {
        "id": "Y6i_E2_9f_-2"
      },
      "execution_count": null,
      "outputs": []
    },
    {
      "cell_type": "markdown",
      "source": [
        "A função que forma a matriz estocástica é confusa, tentei comentar no código, mas não sei se ajudou muito, desculpe. Já a segunda é só para uma checagem de linha ou coluna. c é o comando para saber se se quer linha ou coluna. Se c for 0, retorna-se a linha, se for diferente de 0, retorna coluna. i é o indice da linha ou coluna e M a matriz.\n",
        "\n",
        "Na verdade acho que usar M[i, :] e M[:, i] para acessar essas linhas e colunas mais rápido e menos \"trabalhoso\".\n",
        "\n",
        "\n",
        "---\n"
      ],
      "metadata": {
        "id": "IHScZSWWmUs4"
      }
    },
    {
      "cell_type": "markdown",
      "source": [
        "#b)\n",
        "\n",
        "Como o jogo depende de rolagem de dados, vou fazer uma função de soma de dados para auxiliar o processo:"
      ],
      "metadata": {
        "id": "VRvpL7-0m5x2"
      }
    },
    {
      "cell_type": "code",
      "source": [
        "#n é o número de dados arremessados ou de arremessos\n",
        "def ArremessaDados(n):\n",
        "  arremesso = np.random.randint(1, 7, n)\n",
        "  return arremesso"
      ],
      "metadata": {
        "id": "VfvAtCbemsnM"
      },
      "execution_count": null,
      "outputs": []
    },
    {
      "cell_type": "markdown",
      "source": [
        "Em seguida temos uma função que simula uma partida com n iterações.\n",
        "\n",
        "IMPORTANTE: Aqui eu diferencio turnos de iterações, turnos só mudam quando os dados tem valores distintos!"
      ],
      "metadata": {
        "id": "Vph4bSymXopQ"
      }
    },
    {
      "cell_type": "code",
      "source": [
        "def Joga(n):\n",
        "  #X indica a casa que se está - 1\n",
        "  X = 0\n",
        "  #numeroRepetido representa quantas vezes seguidas se tirou números\n",
        "  #repetidos nos dados\n",
        "  numeroRepetido = 0\n",
        "  #preso indica quantos turnos se está preso. Se for igual a 0\n",
        "  #significa que o jogador não está preso\n",
        "  preso = 0\n",
        "  turno = 0\n",
        "  for i in range(n):\n",
        "    rolagemDeDados = ArremessaDados(2)\n",
        "\n",
        "    if(preso != 0):\n",
        "      preso += 1\n",
        "      turno += 1\n",
        "    if(preso == 3):\n",
        "      preso = 0\n",
        "      print(\"Foi solto!\")\n",
        "\n",
        "    if(preso < 3 and preso != 0):\n",
        "      preso += 1\n",
        "    else:\n",
        "      preso = 0\n",
        "\n",
        "    if(rolagemDeDados[0] != rolagemDeDados[1] and preso == 0):\n",
        "      #move X em dado 1 + dado 2 casas\n",
        "      X = (X + rolagemDeDados@np.ones(2)) % 40\n",
        "      #reseta numeroRepetido\n",
        "      numeroRepetido = 0\n",
        "      turno += 1\n",
        "\n",
        "    elif(preso > 0 and rolagemDeDados[0] == rolagemDeDados[1]):\n",
        "      preso = 0\n",
        "      numeroRepetido = 0\n",
        "      print(\"Foi solto!\")\n",
        "    else:\n",
        "      numeroRepetido += 1\n",
        "      if(numeroRepetido == 3):\n",
        "        numeroRepetido = 0\n",
        "        preso = 1\n",
        "        X = 19\n",
        "        print(\"Está preso!\")\n",
        "    print(f\"Turno {turno}: X = {X+1} | Rolagens repetidas seguidas: {numeroRepetido} | {rolagemDeDados}\")"
      ],
      "metadata": {
        "id": "uR20hJ-tnFYN"
      },
      "execution_count": null,
      "outputs": []
    },
    {
      "cell_type": "code",
      "source": [
        "Joga(100)"
      ],
      "metadata": {
        "id": "EFLBWgqsnV-0",
        "colab": {
          "base_uri": "https://localhost:8080/"
        },
        "outputId": "452a12a4-d00e-4baa-aa79-c563f166ca90"
      },
      "execution_count": null,
      "outputs": [
        {
          "output_type": "stream",
          "name": "stdout",
          "text": [
            "Turno 1: X = 8.0 | Rolagens repetidas seguidas: 0 | [6 1]\n",
            "Turno 2: X = 17.0 | Rolagens repetidas seguidas: 0 | [4 5]\n",
            "Turno 3: X = 22.0 | Rolagens repetidas seguidas: 0 | [1 4]\n",
            "Turno 4: X = 32.0 | Rolagens repetidas seguidas: 0 | [4 6]\n",
            "Turno 5: X = 36.0 | Rolagens repetidas seguidas: 0 | [3 1]\n",
            "Turno 6: X = 5.0 | Rolagens repetidas seguidas: 0 | [4 5]\n",
            "Turno 7: X = 9.0 | Rolagens repetidas seguidas: 0 | [3 1]\n",
            "Turno 7: X = 9.0 | Rolagens repetidas seguidas: 1 | [4 4]\n",
            "Turno 8: X = 13.0 | Rolagens repetidas seguidas: 0 | [1 3]\n",
            "Turno 8: X = 13.0 | Rolagens repetidas seguidas: 1 | [4 4]\n",
            "Turno 9: X = 16.0 | Rolagens repetidas seguidas: 0 | [1 2]\n",
            "Turno 10: X = 21.0 | Rolagens repetidas seguidas: 0 | [2 3]\n",
            "Turno 11: X = 26.0 | Rolagens repetidas seguidas: 0 | [1 4]\n",
            "Turno 12: X = 33.0 | Rolagens repetidas seguidas: 0 | [4 3]\n",
            "Turno 13: X = 2.0 | Rolagens repetidas seguidas: 0 | [4 5]\n",
            "Turno 14: X = 9.0 | Rolagens repetidas seguidas: 0 | [1 6]\n",
            "Turno 15: X = 15.0 | Rolagens repetidas seguidas: 0 | [4 2]\n",
            "Turno 16: X = 25.0 | Rolagens repetidas seguidas: 0 | [6 4]\n",
            "Turno 17: X = 34.0 | Rolagens repetidas seguidas: 0 | [4 5]\n",
            "Turno 18: X = 2.0 | Rolagens repetidas seguidas: 0 | [3 5]\n",
            "Turno 19: X = 6.0 | Rolagens repetidas seguidas: 0 | [1 3]\n",
            "Turno 20: X = 11.0 | Rolagens repetidas seguidas: 0 | [3 2]\n",
            "Turno 21: X = 22.0 | Rolagens repetidas seguidas: 0 | [6 5]\n",
            "Turno 22: X = 29.0 | Rolagens repetidas seguidas: 0 | [2 5]\n",
            "Turno 22: X = 29.0 | Rolagens repetidas seguidas: 1 | [1 1]\n",
            "Turno 23: X = 33.0 | Rolagens repetidas seguidas: 0 | [1 3]\n",
            "Turno 24: X = 40.0 | Rolagens repetidas seguidas: 0 | [1 6]\n",
            "Turno 25: X = 9.0 | Rolagens repetidas seguidas: 0 | [6 3]\n",
            "Turno 25: X = 9.0 | Rolagens repetidas seguidas: 1 | [3 3]\n",
            "Turno 26: X = 17.0 | Rolagens repetidas seguidas: 0 | [6 2]\n",
            "Turno 27: X = 26.0 | Rolagens repetidas seguidas: 0 | [5 4]\n",
            "Turno 28: X = 37.0 | Rolagens repetidas seguidas: 0 | [6 5]\n",
            "Turno 29: X = 8.0 | Rolagens repetidas seguidas: 0 | [6 5]\n",
            "Turno 30: X = 19.0 | Rolagens repetidas seguidas: 0 | [6 5]\n",
            "Turno 31: X = 26.0 | Rolagens repetidas seguidas: 0 | [2 5]\n",
            "Turno 32: X = 33.0 | Rolagens repetidas seguidas: 0 | [3 4]\n",
            "Turno 33: X = 40.0 | Rolagens repetidas seguidas: 0 | [3 4]\n",
            "Turno 34: X = 11.0 | Rolagens repetidas seguidas: 0 | [6 5]\n",
            "Turno 35: X = 21.0 | Rolagens repetidas seguidas: 0 | [4 6]\n",
            "Turno 36: X = 30.0 | Rolagens repetidas seguidas: 0 | [5 4]\n",
            "Turno 36: X = 30.0 | Rolagens repetidas seguidas: 1 | [4 4]\n",
            "Turno 37: X = 38.0 | Rolagens repetidas seguidas: 0 | [6 2]\n",
            "Turno 38: X = 9.0 | Rolagens repetidas seguidas: 0 | [5 6]\n",
            "Turno 38: X = 9.0 | Rolagens repetidas seguidas: 1 | [6 6]\n",
            "Turno 39: X = 19.0 | Rolagens repetidas seguidas: 0 | [4 6]\n",
            "Turno 40: X = 27.0 | Rolagens repetidas seguidas: 0 | [5 3]\n",
            "Turno 41: X = 32.0 | Rolagens repetidas seguidas: 0 | [2 3]\n",
            "Turno 42: X = 38.0 | Rolagens repetidas seguidas: 0 | [5 1]\n",
            "Turno 43: X = 9.0 | Rolagens repetidas seguidas: 0 | [6 5]\n",
            "Turno 44: X = 15.0 | Rolagens repetidas seguidas: 0 | [1 5]\n",
            "Turno 45: X = 22.0 | Rolagens repetidas seguidas: 0 | [3 4]\n",
            "Turno 45: X = 22.0 | Rolagens repetidas seguidas: 1 | [2 2]\n",
            "Turno 46: X = 29.0 | Rolagens repetidas seguidas: 0 | [3 4]\n",
            "Turno 47: X = 38.0 | Rolagens repetidas seguidas: 0 | [6 3]\n",
            "Turno 47: X = 38.0 | Rolagens repetidas seguidas: 1 | [1 1]\n",
            "Turno 48: X = 5.0 | Rolagens repetidas seguidas: 0 | [6 1]\n",
            "Turno 49: X = 16.0 | Rolagens repetidas seguidas: 0 | [5 6]\n",
            "Turno 50: X = 23.0 | Rolagens repetidas seguidas: 0 | [4 3]\n",
            "Turno 51: X = 28.0 | Rolagens repetidas seguidas: 0 | [1 4]\n",
            "Turno 52: X = 31.0 | Rolagens repetidas seguidas: 0 | [1 2]\n",
            "Turno 53: X = 35.0 | Rolagens repetidas seguidas: 0 | [3 1]\n",
            "Turno 53: X = 35.0 | Rolagens repetidas seguidas: 1 | [5 5]\n",
            "Turno 54: X = 3.0 | Rolagens repetidas seguidas: 0 | [5 3]\n",
            "Turno 55: X = 9.0 | Rolagens repetidas seguidas: 0 | [4 2]\n",
            "Turno 56: X = 15.0 | Rolagens repetidas seguidas: 0 | [4 2]\n",
            "Turno 57: X = 24.0 | Rolagens repetidas seguidas: 0 | [3 6]\n",
            "Turno 57: X = 24.0 | Rolagens repetidas seguidas: 1 | [6 6]\n",
            "Turno 57: X = 24.0 | Rolagens repetidas seguidas: 2 | [3 3]\n",
            "Turno 58: X = 29.0 | Rolagens repetidas seguidas: 0 | [2 3]\n",
            "Turno 59: X = 38.0 | Rolagens repetidas seguidas: 0 | [3 6]\n",
            "Turno 60: X = 5.0 | Rolagens repetidas seguidas: 0 | [6 1]\n",
            "Turno 61: X = 16.0 | Rolagens repetidas seguidas: 0 | [5 6]\n",
            "Turno 61: X = 16.0 | Rolagens repetidas seguidas: 1 | [1 1]\n",
            "Turno 62: X = 22.0 | Rolagens repetidas seguidas: 0 | [5 1]\n",
            "Turno 63: X = 28.0 | Rolagens repetidas seguidas: 0 | [1 5]\n",
            "Turno 64: X = 38.0 | Rolagens repetidas seguidas: 0 | [6 4]\n",
            "Turno 65: X = 2.0 | Rolagens repetidas seguidas: 0 | [3 1]\n",
            "Turno 66: X = 7.0 | Rolagens repetidas seguidas: 0 | [4 1]\n",
            "Turno 67: X = 15.0 | Rolagens repetidas seguidas: 0 | [5 3]\n",
            "Turno 68: X = 21.0 | Rolagens repetidas seguidas: 0 | [2 4]\n",
            "Turno 68: X = 21.0 | Rolagens repetidas seguidas: 1 | [1 1]\n",
            "Turno 69: X = 28.0 | Rolagens repetidas seguidas: 0 | [3 4]\n",
            "Turno 70: X = 38.0 | Rolagens repetidas seguidas: 0 | [6 4]\n",
            "Turno 71: X = 5.0 | Rolagens repetidas seguidas: 0 | [6 1]\n",
            "Turno 72: X = 15.0 | Rolagens repetidas seguidas: 0 | [6 4]\n",
            "Turno 73: X = 21.0 | Rolagens repetidas seguidas: 0 | [2 4]\n",
            "Turno 74: X = 28.0 | Rolagens repetidas seguidas: 0 | [2 5]\n",
            "Turno 75: X = 33.0 | Rolagens repetidas seguidas: 0 | [2 3]\n",
            "Turno 76: X = 2.0 | Rolagens repetidas seguidas: 0 | [4 5]\n",
            "Turno 77: X = 6.0 | Rolagens repetidas seguidas: 0 | [3 1]\n",
            "Turno 78: X = 12.0 | Rolagens repetidas seguidas: 0 | [2 4]\n",
            "Turno 79: X = 19.0 | Rolagens repetidas seguidas: 0 | [6 1]\n",
            "Turno 80: X = 24.0 | Rolagens repetidas seguidas: 0 | [4 1]\n",
            "Turno 81: X = 29.0 | Rolagens repetidas seguidas: 0 | [1 4]\n",
            "Turno 82: X = 37.0 | Rolagens repetidas seguidas: 0 | [6 2]\n",
            "Turno 83: X = 2.0 | Rolagens repetidas seguidas: 0 | [1 4]\n",
            "Turno 84: X = 8.0 | Rolagens repetidas seguidas: 0 | [1 5]\n",
            "Turno 85: X = 18.0 | Rolagens repetidas seguidas: 0 | [6 4]\n",
            "Turno 85: X = 18.0 | Rolagens repetidas seguidas: 1 | [4 4]\n",
            "Turno 86: X = 24.0 | Rolagens repetidas seguidas: 0 | [4 2]\n"
          ]
        }
      ]
    },
    {
      "cell_type": "markdown",
      "source": [
        "#c)\n",
        "\n",
        "Aqui podemos tentar usar a Lei dos Grandes Números (https://pt.wikipedia.org/wiki/Lei_dos_grandes_números) que basicamente fala que a média aritmética dos resultados de um mesmo experimento repetido diversas vezes se aproxima de seu valor esperado para um *n* suficientemente grande.\n",
        "\n",
        "Para resolver isso, temos uma função que simula uma partida até que você seja preso, quando preso ela retornará o turno em que se foi preso. Após isso vamos fazer esse experimento de ser preso repetidas vezes, somar os turnos em que isso ocorre e dividir pelo número de testes. A função basicamente é uma adaptação da função Joga(n) de cima."
      ],
      "metadata": {
        "id": "MBs1SHTXvTXW"
      }
    },
    {
      "cell_type": "code",
      "source": [
        "def JogaAteSerPreso():\n",
        "  turno = 0\n",
        "  #numeroRepetido representa quantas vezes seguidas se tirou números\n",
        "  #repetidos nos dados\n",
        "  numeroRepetido = 0\n",
        "\n",
        "  while True:\n",
        "    #rola 2 dados\n",
        "    rolagemDeDados = ArremessaDados(2)\n",
        "\n",
        "    #checa se são dados de valor repetido\n",
        "    if(rolagemDeDados[0] != rolagemDeDados[1]):\n",
        "      numeroRepetido = 0\n",
        "      turno+=1\n",
        "\n",
        "    else:\n",
        "      numeroRepetido += 1\n",
        "      if(numeroRepetido == 3):\n",
        "        #caso seja preso, encerra o looping\n",
        "        break\n",
        "  return turno"
      ],
      "metadata": {
        "id": "-YimYM0dnXTj"
      },
      "execution_count": null,
      "outputs": []
    },
    {
      "cell_type": "markdown",
      "source": [
        "Agora vem a parte de chamar essa função de cima incessantemente, somar os retornos e dividir pelo número de vezes em que a função foi chamada:"
      ],
      "metadata": {
        "id": "PtBISe2PYFgP"
      }
    },
    {
      "cell_type": "code",
      "source": [
        "def ChecaValorE(n):\n",
        "  Y = 0\n",
        "  for i in range(n):\n",
        "    Y += JogaAteSerPreso()\n",
        "  return Y/n"
      ],
      "metadata": {
        "id": "0jODiucwvy8U"
      },
      "execution_count": null,
      "outputs": []
    },
    {
      "cell_type": "code",
      "source": [
        "ChecaValorE(10000)"
      ],
      "metadata": {
        "id": "6f557Y9fvyVb",
        "colab": {
          "base_uri": "https://localhost:8080/"
        },
        "outputId": "28c7f29a-5319-4c99-9854-9873b68d6d92"
      },
      "execution_count": null,
      "outputs": [
        {
          "output_type": "execute_result",
          "data": {
            "text/plain": [
              "214.9374"
            ]
          },
          "metadata": {},
          "execution_count": 10
        }
      ]
    },
    {
      "cell_type": "markdown",
      "source": [
        "Fazendo alguns testes vemos que para n grandes o valor se aproxima de 216."
      ],
      "metadata": {
        "id": "IjPP7_0cYRb-"
      }
    },
    {
      "cell_type": "markdown",
      "source": [
        "\n",
        "\n",
        "---\n",
        "\n",
        "#d)\n",
        "\n",
        "Uma justificativa seria tratando esse problema com uma distribuição gemétrica. Uma distribuição geométrica te diz qual a chance de ter um sucesso após n fracassos:\n",
        "\n",
        "(1-p)^n * p\n",
        "\n",
        "Seu valor esperado é justamente:\n",
        "\n",
        "E[X] = p^-1\n",
        "\n",
        "Em nosso contexto, fracasso seria não ser preso (curioso, né?) e sucesso ser preso.\n",
        "\n",
        "Nesse caso a chance de ser preso é tirando números repetidos nos dados 3 vezes seguidas, mas como vimos na letra a, a chance de tirar 2 números iguais em dois dados é de 6/36, logo teríamos (6/36)(6/36)(6/36) como a probabilidade de ser preso.\n",
        "\n",
        "E[X] = (6/36)^-3 = (1/6)^-3 = 216"
      ],
      "metadata": {
        "id": "CicGhHteY6DV"
      }
    },
    {
      "cell_type": "markdown",
      "source": [
        "\n",
        "\n",
        "---\n",
        "\n",
        "#e)\n",
        "\n",
        "Essa parte é legal. Pela definição de uma matriz de transição, sabemos que ela representa as probabilidades de dado que estou em estado X, a chance de eu ir para estado Y ou Z ou W, etc. Portanto, se pegarmos um vetor indicando onde começamos e começarmos a aplicar a matriz de transição nele, teremos novas probabilidades para cada casa, indicando quanto \"tempo\" se passa/passou nela ou qual a probabilidade de naquele instante eu estar nela.\n",
        "\n",
        "Se quisermos começar na casa 1, teríamos um vetor com 123 entradas, sendo todas nulas e a 1° = 1, pois assim teríamos 100% de chance de estarmos na 1° casa. Aplicando a matriz de transição, vamos chamá-la de T, teremos então as probabilidades de, após o arremesso dos dados, estarmos em cada uma das 40 casas sabendo que estamos na casa 1 atualmente.\n",
        "\n",
        "Seja v esse vetor com tudo zerado e 1 na 1° entrada:\n",
        "\n",
        "v'T = vetor com as probabilidades de estarmos em cada uma das 40 casas sabendo que estamos agora na 1°.\n",
        "\n",
        "Se aplicarmos novamente teremos (v'T)T ou v'(TT), pois matrizes e vetores são associativos. O que isso nos diz? O vetor resultante disso é um vetor com as probabilidades de estarmos em cada uma das 40 casas sabendo que estamos em alguma casa de v'T já descrita com suas probabilidades. Então conforme você vai multiplicando v por T e por T e assim em diante n vezes, estamos vendo na verdade qual a probabilidade de se estar em uma das casas do jogo **após** n rodadas.\n",
        "\n",
        "Mas uma coisa interessante é que, conforme você aplica mais e mais a matriz T em v, você começa a convergir para algo, esse algo representa a probabilidade de se estar em uma das 40 casas em geral! Isso costuma funcionar para valores grandes como esse n->infinito, mas se não me engano nem sempre isso ocorre, porém infelizmente não tenho uma prova decente de quando ocorre ou não, mas nesse caso vamos cometer o erro de só supor que ocorre.\n",
        "\n",
        "Mas isso é justamente a definição de função massa de probabilidade, não é? Dado valor x eu quero saber qual a probabilidade de X assumir ele. Em outras palavras queremos P(X = x) = pX(x). Portanto basta multiplicarmos v por uma quantidade grande de matrizes de transição T.\n",
        "\n",
        "IMPORTANTE: Nesse contexto, a probabilidade de estar na casa 20 não diz nada sobre estar ou não preso, mas somente que o jogador está nela.\n",
        "\n"
      ],
      "metadata": {
        "id": "uDoc7-KnaoHA"
      }
    },
    {
      "cell_type": "code",
      "source": [
        "def XnoTempoT(n, M):\n",
        "  T = np.copy(M)\n",
        "  E = T\n",
        "  v = np.zeros(123)\n",
        "  v[0] = 1\n",
        "\n",
        "  if(n <= 0):\n",
        "    return v\n",
        "  if(n > 1):\n",
        "    for i in range(n-1):\n",
        "      E = E@T\n",
        "  return v@E"
      ],
      "metadata": {
        "id": "lV-2a7hvY7i7"
      },
      "execution_count": null,
      "outputs": []
    },
    {
      "cell_type": "markdown",
      "source": [
        "Acima você tem uma função que aplica T n vezes.\n",
        "\n",
        "Abaixo você pode escolher ver o gráfico com a probabilidade de se estar\n",
        "em cada uma das 40 casas em um instante n. Basta definir n que seria o número de iterações feitas até o estado atual."
      ],
      "metadata": {
        "id": "2Z3iMjHZecGk"
      }
    },
    {
      "cell_type": "code",
      "source": [
        "n = 10"
      ],
      "metadata": {
        "id": "7YUH9Qaoe1CM"
      },
      "execution_count": null,
      "outputs": []
    },
    {
      "cell_type": "code",
      "source": [
        "\n",
        "v = XnoTempoT(n, M)\n",
        "probs = list()\n",
        "casas = list()\n",
        "\n",
        "for i in range(40):\n",
        "  casas.append(i+1)\n",
        "  if(i != 19):\n",
        "    probs.append(round((v[i] + v[i+40] + v[i+80])*100, 3))\n",
        "  else:\n",
        "    probs.append(round((v[i] + v[i+40] + v[i+80] + v[120] + v[121] + v[122])*100, 3))\n",
        "\n",
        "fig = plt.figure(figsize = (10, 5))\n",
        "\n",
        "# creating the bar plot\n",
        "plt.bar(casas, probs, color ='blue',\n",
        "        width = 0.4)\n",
        "\n",
        "plt.xlabel(\"casa\")\n",
        "plt.ylabel(\"Probabilidade em %\")\n",
        "plt.title(f\"Probabilidades por casa em {n} iterações\")\n",
        "plt.show()"
      ],
      "metadata": {
        "colab": {
          "base_uri": "https://localhost:8080/"
        },
        "id": "YE5SePPud5ya",
        "outputId": "7fb64317-e0dc-4343-9d85-27cd41975269"
      },
      "execution_count": null,
      "outputs": [
        {
          "output_type": "error",
          "ename": "NameError",
          "evalue": "ignored",
          "traceback": [
            "\u001b[0;31m---------------------------------------------------------------------------\u001b[0m",
            "\u001b[0;31mNameError\u001b[0m                                 Traceback (most recent call last)",
            "\u001b[0;32m<ipython-input-2-9bc0a63c9026>\u001b[0m in \u001b[0;36m<cell line: 1>\u001b[0;34m()\u001b[0m\n\u001b[0;32m----> 1\u001b[0;31m \u001b[0mv\u001b[0m \u001b[0;34m=\u001b[0m \u001b[0mXnoTempoT\u001b[0m\u001b[0;34m(\u001b[0m\u001b[0mn\u001b[0m\u001b[0;34m,\u001b[0m \u001b[0mM\u001b[0m\u001b[0;34m)\u001b[0m\u001b[0;34m\u001b[0m\u001b[0;34m\u001b[0m\u001b[0m\n\u001b[0m\u001b[1;32m      2\u001b[0m \u001b[0mprobs\u001b[0m \u001b[0;34m=\u001b[0m \u001b[0mlist\u001b[0m\u001b[0;34m(\u001b[0m\u001b[0;34m)\u001b[0m\u001b[0;34m\u001b[0m\u001b[0;34m\u001b[0m\u001b[0m\n\u001b[1;32m      3\u001b[0m \u001b[0mcasas\u001b[0m \u001b[0;34m=\u001b[0m \u001b[0mlist\u001b[0m\u001b[0;34m(\u001b[0m\u001b[0;34m)\u001b[0m\u001b[0;34m\u001b[0m\u001b[0;34m\u001b[0m\u001b[0m\n\u001b[1;32m      4\u001b[0m \u001b[0;34m\u001b[0m\u001b[0m\n\u001b[1;32m      5\u001b[0m \u001b[0;32mfor\u001b[0m \u001b[0mi\u001b[0m \u001b[0;32min\u001b[0m \u001b[0mrange\u001b[0m\u001b[0;34m(\u001b[0m\u001b[0;36m40\u001b[0m\u001b[0;34m)\u001b[0m\u001b[0;34m:\u001b[0m\u001b[0;34m\u001b[0m\u001b[0;34m\u001b[0m\u001b[0m\n",
            "\u001b[0;31mNameError\u001b[0m: name 'XnoTempoT' is not defined"
          ]
        }
      ]
    },
    {
      "cell_type": "markdown",
      "source": [
        "Com n = 100 já temos uma aproximação interessante e podemos tratá-la como a função massa de probabilidade, pois temos a probabilidade de X assumir quaisquer valores naturais entre 1 e 40.\n",
        "\n",
        "Isso tem uma ligação bem forte com autovalores e autovetores dessa matriz, mas infelizmente não consegui me aprofundar tanto nisso :(.\n",
        "\n",
        "Dentre as coisas que li, destaco isso:\n",
        "https://www.todasasconfiguracoes.com/2012/10/19/banco-imobiliario/\n",
        "\n",
        "O restante foram discussões principalmente no https://math.stackexchange.com sobre autovetores e autovalores de matrizes estocásticas e um teorema que pode se relacionar a isso. Não me recordo mais os links certinhos, desculpe.\n"
      ],
      "metadata": {
        "id": "Qvi8jED8frwp"
      }
    }
  ]
}